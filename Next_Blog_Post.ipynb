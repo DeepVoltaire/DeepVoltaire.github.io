{
 "cells": [
  {
   "cell_type": "markdown",
   "metadata": {},
   "source": [
    "# Notes about next Blog post"
   ]
  },
  {
   "cell_type": "markdown",
   "metadata": {},
   "source": [
    "I am thinking about writing my next blog post and am collecting ideas in this post."
   ]
  },
  {
   "cell_type": "markdown",
   "metadata": {},
   "source": [
    "- Data Augmenation on GPU\n",
    " - Contribute dihedral transformations to kornia\n",
    "- Kaggle journal on things I tried in the [PANDA Challenge](https://www.kaggle.com/c/prostate-cancer-grade-assessment)\n",
    "- Important things to master for Deep Learning problems\n",
    " - Metrics, Losses, Architectures, Early Stopping\n",
    "- Habit forming"
   ]
  }
 ],
 "metadata": {
  "gist": {
   "data": {
    "description": "/nbs/blog_test.ipynb",
    "public": true
   },
   "id": ""
  },
  "jupytext": {
   "split_at_heading": true
  },
  "kernelspec": {
   "display_name": "Python 3",
   "language": "python",
   "name": "python3"
  },
  "language_info": {
   "codemirror_mode": {
    "name": "ipython",
    "version": 3
   },
   "file_extension": ".py",
   "mimetype": "text/x-python",
   "name": "python",
   "nbconvert_exporter": "python",
   "pygments_lexer": "ipython3",
   "version": "3.6.8"
  },
  "toc": {
   "base_numbering": 1,
   "nav_menu": {},
   "number_sections": false,
   "sideBar": true,
   "skip_h1_title": true,
   "title_cell": "Table of Contents",
   "title_sidebar": "Contents",
   "toc_cell": false,
   "toc_position": {},
   "toc_section_display": true,
   "toc_window_display": false
  }
 },
 "nbformat": 4,
 "nbformat_minor": 2
}
